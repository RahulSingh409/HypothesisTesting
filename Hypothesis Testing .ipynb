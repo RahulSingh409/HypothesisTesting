{
 "cells": [
  {
   "cell_type": "code",
   "execution_count": 102,
   "id": "f7262a22",
   "metadata": {
    "ExecuteTime": {
     "end_time": "2021-12-28T23:51:01.206051Z",
     "start_time": "2021-12-28T23:51:01.018931Z"
    }
   },
   "outputs": [
    {
     "ename": "ModuleNotFoundError",
     "evalue": "No module named 'plotly'",
     "output_type": "error",
     "traceback": [
      "\u001b[1;31m---------------------------------------------------------------------------\u001b[0m",
      "\u001b[1;31mModuleNotFoundError\u001b[0m                       Traceback (most recent call last)",
      "\u001b[1;32m~\\AppData\\Local\\Temp/ipykernel_67748/3957968273.py\u001b[0m in \u001b[0;36m<module>\u001b[1;34m\u001b[0m\n\u001b[0;32m      5\u001b[0m \u001b[1;32mfrom\u001b[0m \u001b[0mscipy\u001b[0m \u001b[1;32mimport\u001b[0m \u001b[0mstats\u001b[0m\u001b[1;33m\u001b[0m\u001b[1;33m\u001b[0m\u001b[0m\n\u001b[0;32m      6\u001b[0m \u001b[1;32mimport\u001b[0m \u001b[0mstatsmodels\u001b[0m\u001b[1;33m.\u001b[0m\u001b[0mapi\u001b[0m \u001b[1;32mas\u001b[0m \u001b[0msm\u001b[0m\u001b[1;33m\u001b[0m\u001b[1;33m\u001b[0m\u001b[0m\n\u001b[1;32m----> 7\u001b[1;33m \u001b[1;32mfrom\u001b[0m \u001b[0mplotly\u001b[0m \u001b[1;32mimport\u001b[0m \u001b[0mfigure_factory\u001b[0m \u001b[1;32mas\u001b[0m \u001b[0mFF\u001b[0m\u001b[1;33m\u001b[0m\u001b[1;33m\u001b[0m\u001b[0m\n\u001b[0m\u001b[0;32m      8\u001b[0m \u001b[1;32mfrom\u001b[0m \u001b[0mstatsmodels\u001b[0m\u001b[1;33m.\u001b[0m\u001b[0mformula\u001b[0m\u001b[1;33m.\u001b[0m\u001b[0mapi\u001b[0m \u001b[1;32mimport\u001b[0m \u001b[0mols\u001b[0m\u001b[1;33m\u001b[0m\u001b[1;33m\u001b[0m\u001b[0m\n\u001b[0;32m      9\u001b[0m \u001b[1;32mfrom\u001b[0m \u001b[0mscipy\u001b[0m\u001b[1;33m.\u001b[0m\u001b[0mstats\u001b[0m \u001b[1;32mimport\u001b[0m \u001b[0mchi2_contingency\u001b[0m\u001b[1;33m\u001b[0m\u001b[1;33m\u001b[0m\u001b[0m\n",
      "\u001b[1;31mModuleNotFoundError\u001b[0m: No module named 'plotly'"
     ]
    }
   ],
   "source": [
    "#import the libraries\n",
    "import pandas as pd\n",
    "import scipy \n",
    "import numpy as np\n",
    "from scipy import stats \n",
    "import statsmodels.api as sm\n",
    "from plotly import figure_factory as FF\n",
    "from statsmodels.formula.api import ols\n",
    "from scipy.stats import chi2_contingency"
   ]
  },
  {
   "cell_type": "code",
   "execution_count": 8,
   "id": "59920fb2",
   "metadata": {
    "ExecuteTime": {
     "end_time": "2021-12-28T16:24:41.714303Z",
     "start_time": "2021-12-28T16:24:41.694332Z"
    }
   },
   "outputs": [
    {
     "data": {
      "text/html": [
       "<div>\n",
       "<style scoped>\n",
       "    .dataframe tbody tr th:only-of-type {\n",
       "        vertical-align: middle;\n",
       "    }\n",
       "\n",
       "    .dataframe tbody tr th {\n",
       "        vertical-align: top;\n",
       "    }\n",
       "\n",
       "    .dataframe thead th {\n",
       "        text-align: right;\n",
       "    }\n",
       "</style>\n",
       "<table border=\"1\" class=\"dataframe\">\n",
       "  <thead>\n",
       "    <tr style=\"text-align: right;\">\n",
       "      <th></th>\n",
       "      <th>Unit A</th>\n",
       "      <th>Unit B</th>\n",
       "    </tr>\n",
       "  </thead>\n",
       "  <tbody>\n",
       "    <tr>\n",
       "      <th>0</th>\n",
       "      <td>6.8090</td>\n",
       "      <td>6.7703</td>\n",
       "    </tr>\n",
       "    <tr>\n",
       "      <th>1</th>\n",
       "      <td>6.4376</td>\n",
       "      <td>7.5093</td>\n",
       "    </tr>\n",
       "    <tr>\n",
       "      <th>2</th>\n",
       "      <td>6.9157</td>\n",
       "      <td>6.7300</td>\n",
       "    </tr>\n",
       "    <tr>\n",
       "      <th>3</th>\n",
       "      <td>7.3012</td>\n",
       "      <td>6.7878</td>\n",
       "    </tr>\n",
       "    <tr>\n",
       "      <th>4</th>\n",
       "      <td>7.4488</td>\n",
       "      <td>7.1522</td>\n",
       "    </tr>\n",
       "  </tbody>\n",
       "</table>\n",
       "</div>"
      ],
      "text/plain": [
       "   Unit A  Unit B\n",
       "0  6.8090  6.7703\n",
       "1  6.4376  7.5093\n",
       "2  6.9157  6.7300\n",
       "3  7.3012  6.7878\n",
       "4  7.4488  7.1522"
      ]
     },
     "execution_count": 8,
     "metadata": {},
     "output_type": "execute_result"
    }
   ],
   "source": [
    "#Minitab File : Cutlets.csv\n",
    "cutletsdf= pd.read_csv('Cutlets.csv')\n",
    "cutletsdf.head(5)"
   ]
  },
  {
   "cell_type": "code",
   "execution_count": 5,
   "id": "465265b9",
   "metadata": {
    "ExecuteTime": {
     "end_time": "2021-12-28T15:53:49.896092Z",
     "start_time": "2021-12-28T15:53:49.769669Z"
    }
   },
   "outputs": [
    {
     "data": {
      "text/html": [
       "<div>\n",
       "<style scoped>\n",
       "    .dataframe tbody tr th:only-of-type {\n",
       "        vertical-align: middle;\n",
       "    }\n",
       "\n",
       "    .dataframe tbody tr th {\n",
       "        vertical-align: top;\n",
       "    }\n",
       "\n",
       "    .dataframe thead th {\n",
       "        text-align: right;\n",
       "    }\n",
       "</style>\n",
       "<table border=\"1\" class=\"dataframe\">\n",
       "  <thead>\n",
       "    <tr style=\"text-align: right;\">\n",
       "      <th></th>\n",
       "      <th>Unit A</th>\n",
       "      <th>Unit B</th>\n",
       "    </tr>\n",
       "  </thead>\n",
       "  <tbody>\n",
       "    <tr>\n",
       "      <th>count</th>\n",
       "      <td>35.000000</td>\n",
       "      <td>35.000000</td>\n",
       "    </tr>\n",
       "    <tr>\n",
       "      <th>mean</th>\n",
       "      <td>7.019091</td>\n",
       "      <td>6.964297</td>\n",
       "    </tr>\n",
       "    <tr>\n",
       "      <th>std</th>\n",
       "      <td>0.288408</td>\n",
       "      <td>0.343401</td>\n",
       "    </tr>\n",
       "    <tr>\n",
       "      <th>min</th>\n",
       "      <td>6.437600</td>\n",
       "      <td>6.038000</td>\n",
       "    </tr>\n",
       "    <tr>\n",
       "      <th>25%</th>\n",
       "      <td>6.831500</td>\n",
       "      <td>6.753600</td>\n",
       "    </tr>\n",
       "    <tr>\n",
       "      <th>50%</th>\n",
       "      <td>6.943800</td>\n",
       "      <td>6.939900</td>\n",
       "    </tr>\n",
       "    <tr>\n",
       "      <th>75%</th>\n",
       "      <td>7.280550</td>\n",
       "      <td>7.195000</td>\n",
       "    </tr>\n",
       "    <tr>\n",
       "      <th>max</th>\n",
       "      <td>7.516900</td>\n",
       "      <td>7.545900</td>\n",
       "    </tr>\n",
       "  </tbody>\n",
       "</table>\n",
       "</div>"
      ],
      "text/plain": [
       "          Unit A     Unit B\n",
       "count  35.000000  35.000000\n",
       "mean    7.019091   6.964297\n",
       "std     0.288408   0.343401\n",
       "min     6.437600   6.038000\n",
       "25%     6.831500   6.753600\n",
       "50%     6.943800   6.939900\n",
       "75%     7.280550   7.195000\n",
       "max     7.516900   7.545900"
      ]
     },
     "execution_count": 5,
     "metadata": {},
     "output_type": "execute_result"
    }
   ],
   "source": [
    "cutletsdf.describe()"
   ]
  },
  {
   "cell_type": "code",
   "execution_count": 7,
   "id": "dd0bf8be",
   "metadata": {
    "ExecuteTime": {
     "end_time": "2021-12-28T16:00:03.502764Z",
     "start_time": "2021-12-28T16:00:03.204305Z"
    }
   },
   "outputs": [
    {
     "name": "stdout",
     "output_type": "stream",
     "text": [
      "<class 'pandas.core.frame.DataFrame'>\n",
      "RangeIndex: 35 entries, 0 to 34\n",
      "Data columns (total 2 columns):\n",
      " #   Column  Non-Null Count  Dtype  \n",
      "---  ------  --------------  -----  \n",
      " 0   Unit A  35 non-null     float64\n",
      " 1   Unit B  35 non-null     float64\n",
      "dtypes: float64(2)\n",
      "memory usage: 688.0 bytes\n"
     ]
    }
   ],
   "source": [
    "cutletsdf.info()"
   ]
  },
  {
   "attachments": {},
   "cell_type": "markdown",
   "id": "1bf9eba9",
   "metadata": {},
   "source": [
    "#### Q1)      A F&B manager wants to determine whether there is any significant difference in the diameter of the cutlet between two units. A randomly selected sample of cutlets was collected from both units and measured? Analyze the data and draw inferences at 5% significance level. Please state the assumptions and tests that you carried out to check validity of the assumptions.\n"
   ]
  },
  {
   "cell_type": "markdown",
   "id": "d0e5f795",
   "metadata": {},
   "source": [
    "## 2 Sample t-test"
   ]
  },
  {
   "cell_type": "markdown",
   "id": "e42d8029",
   "metadata": {},
   "source": [
    "H0: μ1=μ2 No difference in the diameter.\n",
    "\n",
    "H1: μ1!=μ2 Difference in the diameter."
   ]
  },
  {
   "cell_type": "code",
   "execution_count": 32,
   "id": "6e92d249",
   "metadata": {
    "ExecuteTime": {
     "end_time": "2021-12-28T19:05:06.015531Z",
     "start_time": "2021-12-28T19:05:05.972527Z"
    }
   },
   "outputs": [
    {
     "data": {
      "text/plain": [
       "(array([0.72286887]), array([0.47223947]), 68.0)"
      ]
     },
     "execution_count": 32,
     "metadata": {},
     "output_type": "execute_result"
    }
   ],
   "source": [
    "#Hypothesis testing\n",
    "sm.stats.ttest_ind(cutletsdf[['Unit A']], cutletsdf[['Unit B']])"
   ]
  },
  {
   "cell_type": "markdown",
   "id": "cfda1e64",
   "metadata": {},
   "source": [
    "The test result shows the pvalue(0.47223947) is greater than significance level (0.05).\n",
    "Which means there is 47% chance we'd see sample data this far apart if the two groups tested are actually identical.\n",
    "At 95% confidence level we would fail to reject the null hypothesis, since the p-value is greater than the significance level of 5%.\n",
    "Hence, there is no difference in the diameter of the cutlet between two units."
   ]
  },
  {
   "attachments": {},
   "cell_type": "markdown",
   "id": "d3fea004",
   "metadata": {},
   "source": [
    "## Q2) A hospital wants to determine whether there is any difference in the average Turn Around Time (TAT) of reports of the laboratories on their preferred list. They collected a random sample and recorded TAT for reports of 4 laboratories. TAT is defined as sample collected to report dispatch.\n",
    "#### Analyze the data and determine whether there is any difference in average TAT among the different laboratories at 5% significance level."
   ]
  },
  {
   "cell_type": "code",
   "execution_count": 9,
   "id": "60bc5694",
   "metadata": {
    "ExecuteTime": {
     "end_time": "2021-12-28T16:28:08.743673Z",
     "start_time": "2021-12-28T16:28:08.722731Z"
    }
   },
   "outputs": [
    {
     "data": {
      "text/html": [
       "<div>\n",
       "<style scoped>\n",
       "    .dataframe tbody tr th:only-of-type {\n",
       "        vertical-align: middle;\n",
       "    }\n",
       "\n",
       "    .dataframe tbody tr th {\n",
       "        vertical-align: top;\n",
       "    }\n",
       "\n",
       "    .dataframe thead th {\n",
       "        text-align: right;\n",
       "    }\n",
       "</style>\n",
       "<table border=\"1\" class=\"dataframe\">\n",
       "  <thead>\n",
       "    <tr style=\"text-align: right;\">\n",
       "      <th></th>\n",
       "      <th>Laboratory 1</th>\n",
       "      <th>Laboratory 2</th>\n",
       "      <th>Laboratory 3</th>\n",
       "      <th>Laboratory 4</th>\n",
       "    </tr>\n",
       "  </thead>\n",
       "  <tbody>\n",
       "    <tr>\n",
       "      <th>0</th>\n",
       "      <td>185.35</td>\n",
       "      <td>165.53</td>\n",
       "      <td>176.70</td>\n",
       "      <td>166.13</td>\n",
       "    </tr>\n",
       "    <tr>\n",
       "      <th>1</th>\n",
       "      <td>170.49</td>\n",
       "      <td>185.91</td>\n",
       "      <td>198.45</td>\n",
       "      <td>160.79</td>\n",
       "    </tr>\n",
       "    <tr>\n",
       "      <th>2</th>\n",
       "      <td>192.77</td>\n",
       "      <td>194.92</td>\n",
       "      <td>201.23</td>\n",
       "      <td>185.18</td>\n",
       "    </tr>\n",
       "    <tr>\n",
       "      <th>3</th>\n",
       "      <td>177.33</td>\n",
       "      <td>183.00</td>\n",
       "      <td>199.61</td>\n",
       "      <td>176.42</td>\n",
       "    </tr>\n",
       "    <tr>\n",
       "      <th>4</th>\n",
       "      <td>193.41</td>\n",
       "      <td>169.57</td>\n",
       "      <td>204.63</td>\n",
       "      <td>152.60</td>\n",
       "    </tr>\n",
       "  </tbody>\n",
       "</table>\n",
       "</div>"
      ],
      "text/plain": [
       "   Laboratory 1  Laboratory 2  Laboratory 3  Laboratory 4\n",
       "0        185.35        165.53        176.70        166.13\n",
       "1        170.49        185.91        198.45        160.79\n",
       "2        192.77        194.92        201.23        185.18\n",
       "3        177.33        183.00        199.61        176.42\n",
       "4        193.41        169.57        204.63        152.60"
      ]
     },
     "execution_count": 9,
     "metadata": {},
     "output_type": "execute_result"
    }
   ],
   "source": [
    "#Minitab File: LabTAT.csv\n",
    "labtatdf= pd.read_csv('LabTAT.csv')\n",
    "labtatdf.head(5)"
   ]
  },
  {
   "cell_type": "code",
   "execution_count": 11,
   "id": "d2433861",
   "metadata": {
    "ExecuteTime": {
     "end_time": "2021-12-28T16:38:06.890868Z",
     "start_time": "2021-12-28T16:38:06.861873Z"
    }
   },
   "outputs": [
    {
     "data": {
      "text/html": [
       "<div>\n",
       "<style scoped>\n",
       "    .dataframe tbody tr th:only-of-type {\n",
       "        vertical-align: middle;\n",
       "    }\n",
       "\n",
       "    .dataframe tbody tr th {\n",
       "        vertical-align: top;\n",
       "    }\n",
       "\n",
       "    .dataframe thead th {\n",
       "        text-align: right;\n",
       "    }\n",
       "</style>\n",
       "<table border=\"1\" class=\"dataframe\">\n",
       "  <thead>\n",
       "    <tr style=\"text-align: right;\">\n",
       "      <th></th>\n",
       "      <th>Laboratory 1</th>\n",
       "      <th>Laboratory 2</th>\n",
       "      <th>Laboratory 3</th>\n",
       "      <th>Laboratory 4</th>\n",
       "    </tr>\n",
       "  </thead>\n",
       "  <tbody>\n",
       "    <tr>\n",
       "      <th>count</th>\n",
       "      <td>120.000000</td>\n",
       "      <td>120.000000</td>\n",
       "      <td>120.000000</td>\n",
       "      <td>120.00000</td>\n",
       "    </tr>\n",
       "    <tr>\n",
       "      <th>mean</th>\n",
       "      <td>178.361583</td>\n",
       "      <td>178.902917</td>\n",
       "      <td>199.913250</td>\n",
       "      <td>163.68275</td>\n",
       "    </tr>\n",
       "    <tr>\n",
       "      <th>std</th>\n",
       "      <td>13.173594</td>\n",
       "      <td>14.957114</td>\n",
       "      <td>16.539033</td>\n",
       "      <td>15.08508</td>\n",
       "    </tr>\n",
       "    <tr>\n",
       "      <th>min</th>\n",
       "      <td>138.300000</td>\n",
       "      <td>140.550000</td>\n",
       "      <td>159.690000</td>\n",
       "      <td>124.06000</td>\n",
       "    </tr>\n",
       "    <tr>\n",
       "      <th>25%</th>\n",
       "      <td>170.335000</td>\n",
       "      <td>168.025000</td>\n",
       "      <td>188.232500</td>\n",
       "      <td>154.05000</td>\n",
       "    </tr>\n",
       "    <tr>\n",
       "      <th>50%</th>\n",
       "      <td>178.530000</td>\n",
       "      <td>178.870000</td>\n",
       "      <td>199.805000</td>\n",
       "      <td>164.42500</td>\n",
       "    </tr>\n",
       "    <tr>\n",
       "      <th>75%</th>\n",
       "      <td>186.535000</td>\n",
       "      <td>189.112500</td>\n",
       "      <td>211.332500</td>\n",
       "      <td>172.88250</td>\n",
       "    </tr>\n",
       "    <tr>\n",
       "      <th>max</th>\n",
       "      <td>216.390000</td>\n",
       "      <td>217.860000</td>\n",
       "      <td>238.700000</td>\n",
       "      <td>205.18000</td>\n",
       "    </tr>\n",
       "  </tbody>\n",
       "</table>\n",
       "</div>"
      ],
      "text/plain": [
       "       Laboratory 1  Laboratory 2  Laboratory 3  Laboratory 4\n",
       "count    120.000000    120.000000    120.000000     120.00000\n",
       "mean     178.361583    178.902917    199.913250     163.68275\n",
       "std       13.173594     14.957114     16.539033      15.08508\n",
       "min      138.300000    140.550000    159.690000     124.06000\n",
       "25%      170.335000    168.025000    188.232500     154.05000\n",
       "50%      178.530000    178.870000    199.805000     164.42500\n",
       "75%      186.535000    189.112500    211.332500     172.88250\n",
       "max      216.390000    217.860000    238.700000     205.18000"
      ]
     },
     "execution_count": 11,
     "metadata": {},
     "output_type": "execute_result"
    }
   ],
   "source": [
    "labtatdf.describe(include='all')"
   ]
  },
  {
   "cell_type": "code",
   "execution_count": 19,
   "id": "dccc6629",
   "metadata": {
    "ExecuteTime": {
     "end_time": "2021-12-28T18:16:45.530678Z",
     "start_time": "2021-12-28T18:16:43.817571Z"
    }
   },
   "outputs": [
    {
     "name": "stdout",
     "output_type": "stream",
     "text": [
      "<class 'pandas.core.frame.DataFrame'>\n",
      "RangeIndex: 120 entries, 0 to 119\n",
      "Data columns (total 4 columns):\n",
      " #   Column        Non-Null Count  Dtype  \n",
      "---  ------        --------------  -----  \n",
      " 0   Laboratory 1  120 non-null    float64\n",
      " 1   Laboratory 2  120 non-null    float64\n",
      " 2   Laboratory 3  120 non-null    float64\n",
      " 3   Laboratory 4  120 non-null    float64\n",
      "dtypes: float64(4)\n",
      "memory usage: 3.9 KB\n"
     ]
    }
   ],
   "source": [
    "labtatdf.info()"
   ]
  },
  {
   "cell_type": "code",
   "execution_count": 26,
   "id": "d7e02255",
   "metadata": {
    "ExecuteTime": {
     "end_time": "2021-12-28T18:41:31.659042Z",
     "start_time": "2021-12-28T18:41:31.227899Z"
    }
   },
   "outputs": [
    {
     "data": {
      "text/html": [
       "<div>\n",
       "<style scoped>\n",
       "    .dataframe tbody tr th:only-of-type {\n",
       "        vertical-align: middle;\n",
       "    }\n",
       "\n",
       "    .dataframe tbody tr th {\n",
       "        vertical-align: top;\n",
       "    }\n",
       "\n",
       "    .dataframe thead th {\n",
       "        text-align: right;\n",
       "    }\n",
       "</style>\n",
       "<table border=\"1\" class=\"dataframe\">\n",
       "  <thead>\n",
       "    <tr style=\"text-align: right;\">\n",
       "      <th></th>\n",
       "      <th>Laboratory1</th>\n",
       "      <th>Laboratory2</th>\n",
       "      <th>Laboratory3</th>\n",
       "      <th>Laboratory4</th>\n",
       "    </tr>\n",
       "  </thead>\n",
       "  <tbody>\n",
       "    <tr>\n",
       "      <th>0</th>\n",
       "      <td>185.35</td>\n",
       "      <td>165.53</td>\n",
       "      <td>176.70</td>\n",
       "      <td>166.13</td>\n",
       "    </tr>\n",
       "    <tr>\n",
       "      <th>1</th>\n",
       "      <td>170.49</td>\n",
       "      <td>185.91</td>\n",
       "      <td>198.45</td>\n",
       "      <td>160.79</td>\n",
       "    </tr>\n",
       "    <tr>\n",
       "      <th>2</th>\n",
       "      <td>192.77</td>\n",
       "      <td>194.92</td>\n",
       "      <td>201.23</td>\n",
       "      <td>185.18</td>\n",
       "    </tr>\n",
       "    <tr>\n",
       "      <th>3</th>\n",
       "      <td>177.33</td>\n",
       "      <td>183.00</td>\n",
       "      <td>199.61</td>\n",
       "      <td>176.42</td>\n",
       "    </tr>\n",
       "    <tr>\n",
       "      <th>4</th>\n",
       "      <td>193.41</td>\n",
       "      <td>169.57</td>\n",
       "      <td>204.63</td>\n",
       "      <td>152.60</td>\n",
       "    </tr>\n",
       "  </tbody>\n",
       "</table>\n",
       "</div>"
      ],
      "text/plain": [
       "   Laboratory1  Laboratory2  Laboratory3  Laboratory4\n",
       "0       185.35       165.53       176.70       166.13\n",
       "1       170.49       185.91       198.45       160.79\n",
       "2       192.77       194.92       201.23       185.18\n",
       "3       177.33       183.00       199.61       176.42\n",
       "4       193.41       169.57       204.63       152.60"
      ]
     },
     "execution_count": 26,
     "metadata": {},
     "output_type": "execute_result"
    }
   ],
   "source": [
    "labtatdf.columns='Laboratory1','Laboratory2','Laboratory3','Laboratory4'\n",
    "labtatdf.head(5)"
   ]
  },
  {
   "cell_type": "markdown",
   "id": "7ce7e5fb",
   "metadata": {},
   "source": [
    "## One-Way ANOVA"
   ]
  },
  {
   "cell_type": "markdown",
   "id": "52077c31",
   "metadata": {},
   "source": [
    "H0: μ1=μ2=μ3=μ4, The means of the samples are equal. There is no difference in the average Turn Around Time (TAT) of reports of the laboratories.\n",
    "\n",
    "H1: μ1!=μ2!=μ3!=μ4, one or more of the means of the samples are unequal. There is difference in the average Turn Around Time (TAT) of reports of the laboratories.     "
   ]
  },
  {
   "cell_type": "code",
   "execution_count": 28,
   "id": "ad7364cc",
   "metadata": {
    "ExecuteTime": {
     "end_time": "2021-12-28T18:44:30.516386Z",
     "start_time": "2021-12-28T18:44:30.496437Z"
    }
   },
   "outputs": [
    {
     "name": "stdout",
     "output_type": "stream",
     "text": [
      "ShapiroResult(statistic=0.9901824593544006, pvalue=0.5506953597068787)\n",
      "ShapiroResult(statistic=0.9936322569847107, pvalue=0.8637524843215942)\n",
      "ShapiroResult(statistic=0.9886345267295837, pvalue=0.4205053448677063)\n",
      "ShapiroResult(statistic=0.9913753271102905, pvalue=0.6618951559066772)\n",
      "LeveneResult(statistic=3.5495027780905763, pvalue=0.06078228171776711)\n",
      "LeveneResult(statistic=0.9441465124387124, pvalue=0.33220021420602397)\n",
      "LeveneResult(statistic=2.037958464521512, pvalue=0.15472618294425391)\n",
      "LeveneResult(statistic=1.5000140718506723, pvalue=0.22188001348277267)\n"
     ]
    }
   ],
   "source": [
    "##########Normality Test ############\n",
    "\n",
    "print(stats.shapiro(labtatdf.Laboratory1))    #Shapiro Test\n",
    "print(stats.shapiro(labtatdf.Laboratory2))\n",
    "print(stats.shapiro(labtatdf.Laboratory3))\n",
    "print(stats.shapiro(labtatdf.Laboratory4))\n",
    "\n",
    "############## Variance test #########\n",
    "print(scipy.stats.levene(labtatdf.Laboratory1, labtatdf.Laboratory2))\n",
    "print(scipy.stats.levene(labtatdf.Laboratory2, labtatdf.Laboratory3))\n",
    "print(scipy.stats.levene(labtatdf.Laboratory3, labtatdf.Laboratory4))\n",
    "print(scipy.stats.levene(labtatdf.Laboratory4, labtatdf.Laboratory1))"
   ]
  },
  {
   "cell_type": "code",
   "execution_count": 29,
   "id": "cd9dd045",
   "metadata": {
    "ExecuteTime": {
     "end_time": "2021-12-28T18:49:25.179238Z",
     "start_time": "2021-12-28T18:49:24.401776Z"
    }
   },
   "outputs": [
    {
     "name": "stdout",
     "output_type": "stream",
     "text": [
      "                df        sum_sq     mean_sq         F    PR(>F)\n",
      "Laboratory2    1.0    332.030416  332.030416  1.940311  0.166299\n",
      "Laboratory3    1.0    203.853111  203.853111  1.191271  0.277335\n",
      "Laboratory4    1.0    265.614707  265.614707  1.552192  0.215323\n",
      "Residual     116.0  19850.186366  171.122296       NaN       NaN\n"
     ]
    },
    {
     "data": {
      "text/plain": [
       "F_onewayResult(statistic=118.70421654401437, pvalue=2.1156708949992414e-57)"
      ]
     },
     "execution_count": 29,
     "metadata": {},
     "output_type": "execute_result"
    }
   ],
   "source": [
    "############# One - Way Anova###################\n",
    "mod=ols('Laboratory1 ~ (Laboratory2 + Laboratory3 + Laboratory4)',data=labtatdf).fit()\n",
    "\n",
    "aov_table=sm.stats.anova_lm(mod)\n",
    "\n",
    "print(aov_table)\n",
    "stats.f_oneway(labtatdf.Laboratory1,labtatdf.Laboratory2,labtatdf.Laboratory3,labtatdf.Laboratory4 )"
   ]
  },
  {
   "cell_type": "markdown",
   "id": "81bf5fc9",
   "metadata": {},
   "source": [
    "The test output yields an F-statistic of 118.704 and a p-value of 2.115670, indicating that there is no significant difference between the means of each group.\n",
    "Hence, p-value is greater than significance level of (5%).The means of the samples are equal. There is no difference in the average Turn Around Time (TAT) of reports of the laboratories."
   ]
  },
  {
   "attachments": {},
   "cell_type": "markdown",
   "id": "eabe0bfa",
   "metadata": {},
   "source": [
    "## Q3) Sales of products in four different regions is tabulated for males and females. Find if male-female buyer rations are similar across regions."
   ]
  },
  {
   "cell_type": "code",
   "execution_count": 37,
   "id": "71e217af",
   "metadata": {
    "ExecuteTime": {
     "end_time": "2021-12-28T19:38:15.900597Z",
     "start_time": "2021-12-28T19:38:15.134113Z"
    }
   },
   "outputs": [
    {
     "data": {
      "text/html": [
       "<div>\n",
       "<style scoped>\n",
       "    .dataframe tbody tr th:only-of-type {\n",
       "        vertical-align: middle;\n",
       "    }\n",
       "\n",
       "    .dataframe tbody tr th {\n",
       "        vertical-align: top;\n",
       "    }\n",
       "\n",
       "    .dataframe thead th {\n",
       "        text-align: right;\n",
       "    }\n",
       "</style>\n",
       "<table border=\"1\" class=\"dataframe\">\n",
       "  <thead>\n",
       "    <tr style=\"text-align: right;\">\n",
       "      <th></th>\n",
       "      <th>East</th>\n",
       "      <th>West</th>\n",
       "      <th>North</th>\n",
       "      <th>South</th>\n",
       "    </tr>\n",
       "    <tr>\n",
       "      <th>Observed Values</th>\n",
       "      <th></th>\n",
       "      <th></th>\n",
       "      <th></th>\n",
       "      <th></th>\n",
       "    </tr>\n",
       "  </thead>\n",
       "  <tbody>\n",
       "    <tr>\n",
       "      <th>Males</th>\n",
       "      <td>50</td>\n",
       "      <td>142</td>\n",
       "      <td>131</td>\n",
       "      <td>70</td>\n",
       "    </tr>\n",
       "    <tr>\n",
       "      <th>Females</th>\n",
       "      <td>435</td>\n",
       "      <td>1523</td>\n",
       "      <td>1356</td>\n",
       "      <td>750</td>\n",
       "    </tr>\n",
       "  </tbody>\n",
       "</table>\n",
       "</div>"
      ],
      "text/plain": [
       "                 East  West  North  South\n",
       "Observed Values                          \n",
       "Males              50   142    131     70\n",
       "Females           435  1523   1356    750"
      ]
     },
     "execution_count": 37,
     "metadata": {},
     "output_type": "execute_result"
    }
   ],
   "source": [
    "# Buyer Ratio.csv\n",
    "buyerratiodf= pd.read_csv('BuyerRatio.csv',index_col=0)\n",
    "buyerratiodf.head(5)"
   ]
  },
  {
   "cell_type": "code",
   "execution_count": 38,
   "id": "96e27da8",
   "metadata": {
    "ExecuteTime": {
     "end_time": "2021-12-28T19:38:19.879982Z",
     "start_time": "2021-12-28T19:38:19.567396Z"
    },
    "scrolled": true
   },
   "outputs": [
    {
     "data": {
      "text/html": [
       "<div>\n",
       "<style scoped>\n",
       "    .dataframe tbody tr th:only-of-type {\n",
       "        vertical-align: middle;\n",
       "    }\n",
       "\n",
       "    .dataframe tbody tr th {\n",
       "        vertical-align: top;\n",
       "    }\n",
       "\n",
       "    .dataframe thead th {\n",
       "        text-align: right;\n",
       "    }\n",
       "</style>\n",
       "<table border=\"1\" class=\"dataframe\">\n",
       "  <thead>\n",
       "    <tr style=\"text-align: right;\">\n",
       "      <th></th>\n",
       "      <th>East</th>\n",
       "      <th>West</th>\n",
       "      <th>North</th>\n",
       "      <th>South</th>\n",
       "    </tr>\n",
       "  </thead>\n",
       "  <tbody>\n",
       "    <tr>\n",
       "      <th>count</th>\n",
       "      <td>2.000000</td>\n",
       "      <td>2.000000</td>\n",
       "      <td>2.000000</td>\n",
       "      <td>2.000000</td>\n",
       "    </tr>\n",
       "    <tr>\n",
       "      <th>mean</th>\n",
       "      <td>242.500000</td>\n",
       "      <td>832.500000</td>\n",
       "      <td>743.500000</td>\n",
       "      <td>410.000000</td>\n",
       "    </tr>\n",
       "    <tr>\n",
       "      <th>std</th>\n",
       "      <td>272.236111</td>\n",
       "      <td>976.514465</td>\n",
       "      <td>866.205807</td>\n",
       "      <td>480.832611</td>\n",
       "    </tr>\n",
       "    <tr>\n",
       "      <th>min</th>\n",
       "      <td>50.000000</td>\n",
       "      <td>142.000000</td>\n",
       "      <td>131.000000</td>\n",
       "      <td>70.000000</td>\n",
       "    </tr>\n",
       "    <tr>\n",
       "      <th>25%</th>\n",
       "      <td>146.250000</td>\n",
       "      <td>487.250000</td>\n",
       "      <td>437.250000</td>\n",
       "      <td>240.000000</td>\n",
       "    </tr>\n",
       "    <tr>\n",
       "      <th>50%</th>\n",
       "      <td>242.500000</td>\n",
       "      <td>832.500000</td>\n",
       "      <td>743.500000</td>\n",
       "      <td>410.000000</td>\n",
       "    </tr>\n",
       "    <tr>\n",
       "      <th>75%</th>\n",
       "      <td>338.750000</td>\n",
       "      <td>1177.750000</td>\n",
       "      <td>1049.750000</td>\n",
       "      <td>580.000000</td>\n",
       "    </tr>\n",
       "    <tr>\n",
       "      <th>max</th>\n",
       "      <td>435.000000</td>\n",
       "      <td>1523.000000</td>\n",
       "      <td>1356.000000</td>\n",
       "      <td>750.000000</td>\n",
       "    </tr>\n",
       "  </tbody>\n",
       "</table>\n",
       "</div>"
      ],
      "text/plain": [
       "             East         West        North       South\n",
       "count    2.000000     2.000000     2.000000    2.000000\n",
       "mean   242.500000   832.500000   743.500000  410.000000\n",
       "std    272.236111   976.514465   866.205807  480.832611\n",
       "min     50.000000   142.000000   131.000000   70.000000\n",
       "25%    146.250000   487.250000   437.250000  240.000000\n",
       "50%    242.500000   832.500000   743.500000  410.000000\n",
       "75%    338.750000  1177.750000  1049.750000  580.000000\n",
       "max    435.000000  1523.000000  1356.000000  750.000000"
      ]
     },
     "execution_count": 38,
     "metadata": {},
     "output_type": "execute_result"
    }
   ],
   "source": [
    "buyerratiodf.describe(include='all')"
   ]
  },
  {
   "cell_type": "code",
   "execution_count": 39,
   "id": "5b6cf6a9",
   "metadata": {
    "ExecuteTime": {
     "end_time": "2021-12-28T19:38:23.694907Z",
     "start_time": "2021-12-28T19:38:23.658708Z"
    }
   },
   "outputs": [
    {
     "name": "stdout",
     "output_type": "stream",
     "text": [
      "<class 'pandas.core.frame.DataFrame'>\n",
      "Index: 2 entries, Males to Females\n",
      "Data columns (total 4 columns):\n",
      " #   Column  Non-Null Count  Dtype\n",
      "---  ------  --------------  -----\n",
      " 0   East    2 non-null      int64\n",
      " 1   West    2 non-null      int64\n",
      " 2   North   2 non-null      int64\n",
      " 3   South   2 non-null      int64\n",
      "dtypes: int64(4)\n",
      "memory usage: 80.0+ bytes\n"
     ]
    }
   ],
   "source": [
    "buyerratiodf.info()"
   ]
  },
  {
   "cell_type": "markdown",
   "id": "aef7fc21",
   "metadata": {},
   "source": [
    "## Chi-Squared Tests"
   ]
  },
  {
   "cell_type": "markdown",
   "id": "09841bc3",
   "metadata": {},
   "source": [
    "H0: Male-female buyer rations are similar across regions.\n",
    "\n",
    "H1: Male-female buyer rations are not same across regions."
   ]
  },
  {
   "cell_type": "code",
   "execution_count": 103,
   "id": "f488035a",
   "metadata": {
    "ExecuteTime": {
     "end_time": "2021-12-28T23:51:13.411922Z",
     "start_time": "2021-12-28T23:51:12.937733Z"
    }
   },
   "outputs": [
    {
     "data": {
      "text/plain": [
       "(1.595945538661058,\n",
       " 0.6603094907091882,\n",
       " 3,\n",
       " array([[  42.76531299,  146.81287862,  131.11756787,   72.30424052],\n",
       "        [ 442.23468701, 1518.18712138, 1355.88243213,  747.69575948]]))"
      ]
     },
     "execution_count": 103,
     "metadata": {},
     "output_type": "execute_result"
    }
   ],
   "source": [
    "################Chi-Square Test ################\n",
    "\n",
    "stats.chi2_contingency(buyerratiodf)\n",
    "# output(chi2,p,df,expected)"
   ]
  },
  {
   "cell_type": "markdown",
   "id": "b5cc5ed9",
   "metadata": {},
   "source": [
    "p-value is greater than significance level of 5%. We fail to reject Null hypothesis.\n",
    "\n",
    "Hence, Male-female buyer rations are similar across regions."
   ]
  },
  {
   "attachments": {},
   "cell_type": "markdown",
   "id": "2474d07f",
   "metadata": {},
   "source": [
    "## Q4) TeleCall uses 4 centers around the globe to process customer order forms. They audit a certain %  of the customer order forms. Any error in order form renders it defective and has to be reworked before processing.  The manager wants to check whether the defective %  varies by centre. Please analyze the data at 5% significance level and help the manager draw appropriate inferences."
   ]
  },
  {
   "cell_type": "code",
   "execution_count": 84,
   "id": "d5d7221d",
   "metadata": {
    "ExecuteTime": {
     "end_time": "2021-12-28T22:32:03.400738Z",
     "start_time": "2021-12-28T22:32:03.207773Z"
    }
   },
   "outputs": [
    {
     "data": {
      "text/html": [
       "<div>\n",
       "<style scoped>\n",
       "    .dataframe tbody tr th:only-of-type {\n",
       "        vertical-align: middle;\n",
       "    }\n",
       "\n",
       "    .dataframe tbody tr th {\n",
       "        vertical-align: top;\n",
       "    }\n",
       "\n",
       "    .dataframe thead th {\n",
       "        text-align: right;\n",
       "    }\n",
       "</style>\n",
       "<table border=\"1\" class=\"dataframe\">\n",
       "  <thead>\n",
       "    <tr style=\"text-align: right;\">\n",
       "      <th></th>\n",
       "      <th>Phillippines</th>\n",
       "      <th>Indonesia</th>\n",
       "      <th>Malta</th>\n",
       "      <th>India</th>\n",
       "    </tr>\n",
       "  </thead>\n",
       "  <tbody>\n",
       "    <tr>\n",
       "      <th>0</th>\n",
       "      <td>Error Free</td>\n",
       "      <td>Error Free</td>\n",
       "      <td>Defective</td>\n",
       "      <td>Error Free</td>\n",
       "    </tr>\n",
       "    <tr>\n",
       "      <th>1</th>\n",
       "      <td>Error Free</td>\n",
       "      <td>Error Free</td>\n",
       "      <td>Error Free</td>\n",
       "      <td>Defective</td>\n",
       "    </tr>\n",
       "    <tr>\n",
       "      <th>2</th>\n",
       "      <td>Error Free</td>\n",
       "      <td>Defective</td>\n",
       "      <td>Defective</td>\n",
       "      <td>Error Free</td>\n",
       "    </tr>\n",
       "    <tr>\n",
       "      <th>3</th>\n",
       "      <td>Error Free</td>\n",
       "      <td>Error Free</td>\n",
       "      <td>Error Free</td>\n",
       "      <td>Error Free</td>\n",
       "    </tr>\n",
       "    <tr>\n",
       "      <th>4</th>\n",
       "      <td>Error Free</td>\n",
       "      <td>Error Free</td>\n",
       "      <td>Defective</td>\n",
       "      <td>Error Free</td>\n",
       "    </tr>\n",
       "  </tbody>\n",
       "</table>\n",
       "</div>"
      ],
      "text/plain": [
       "  Phillippines   Indonesia       Malta       India\n",
       "0   Error Free  Error Free   Defective  Error Free\n",
       "1   Error Free  Error Free  Error Free   Defective\n",
       "2   Error Free   Defective   Defective  Error Free\n",
       "3   Error Free  Error Free  Error Free  Error Free\n",
       "4   Error Free  Error Free   Defective  Error Free"
      ]
     },
     "execution_count": 84,
     "metadata": {},
     "output_type": "execute_result"
    }
   ],
   "source": [
    "# CustomerOrderForm.csv\n",
    "customerorderformdf= pd.read_csv('Costomer+OrderForm.csv')\n",
    "customerorderformdf.head(5)"
   ]
  },
  {
   "cell_type": "code",
   "execution_count": 85,
   "id": "48764972",
   "metadata": {
    "ExecuteTime": {
     "end_time": "2021-12-28T22:32:07.083585Z",
     "start_time": "2021-12-28T22:32:06.968822Z"
    }
   },
   "outputs": [
    {
     "data": {
      "text/html": [
       "<div>\n",
       "<style scoped>\n",
       "    .dataframe tbody tr th:only-of-type {\n",
       "        vertical-align: middle;\n",
       "    }\n",
       "\n",
       "    .dataframe tbody tr th {\n",
       "        vertical-align: top;\n",
       "    }\n",
       "\n",
       "    .dataframe thead th {\n",
       "        text-align: right;\n",
       "    }\n",
       "</style>\n",
       "<table border=\"1\" class=\"dataframe\">\n",
       "  <thead>\n",
       "    <tr style=\"text-align: right;\">\n",
       "      <th></th>\n",
       "      <th>Phillippines</th>\n",
       "      <th>Indonesia</th>\n",
       "      <th>Malta</th>\n",
       "      <th>India</th>\n",
       "    </tr>\n",
       "  </thead>\n",
       "  <tbody>\n",
       "    <tr>\n",
       "      <th>count</th>\n",
       "      <td>300</td>\n",
       "      <td>300</td>\n",
       "      <td>300</td>\n",
       "      <td>300</td>\n",
       "    </tr>\n",
       "    <tr>\n",
       "      <th>unique</th>\n",
       "      <td>2</td>\n",
       "      <td>2</td>\n",
       "      <td>2</td>\n",
       "      <td>2</td>\n",
       "    </tr>\n",
       "    <tr>\n",
       "      <th>top</th>\n",
       "      <td>Error Free</td>\n",
       "      <td>Error Free</td>\n",
       "      <td>Error Free</td>\n",
       "      <td>Error Free</td>\n",
       "    </tr>\n",
       "    <tr>\n",
       "      <th>freq</th>\n",
       "      <td>271</td>\n",
       "      <td>267</td>\n",
       "      <td>269</td>\n",
       "      <td>280</td>\n",
       "    </tr>\n",
       "  </tbody>\n",
       "</table>\n",
       "</div>"
      ],
      "text/plain": [
       "       Phillippines   Indonesia       Malta       India\n",
       "count           300         300         300         300\n",
       "unique            2           2           2           2\n",
       "top      Error Free  Error Free  Error Free  Error Free\n",
       "freq            271         267         269         280"
      ]
     },
     "execution_count": 85,
     "metadata": {},
     "output_type": "execute_result"
    }
   ],
   "source": [
    "customerorderformdf.describe(include='all')"
   ]
  },
  {
   "cell_type": "markdown",
   "id": "13aa0a80",
   "metadata": {},
   "source": [
    "## Chi-Squared Tests"
   ]
  },
  {
   "cell_type": "markdown",
   "id": "50f50c72",
   "metadata": {},
   "source": [
    "The chi-squared test of independence tests whether categorical variables are independent. \n",
    "\n",
    "H0: Independence of categorical variables customer order forms defective% does not varies by centre.\n",
    "\n",
    "H1: Dependence of categorical variables customer order forms defective% varies by centre.    "
   ]
  },
  {
   "cell_type": "code",
   "execution_count": 88,
   "id": "8250c36c",
   "metadata": {
    "ExecuteTime": {
     "end_time": "2021-12-28T23:17:55.721349Z",
     "start_time": "2021-12-28T23:17:55.706681Z"
    }
   },
   "outputs": [
    {
     "data": {
      "text/plain": [
       "Error Free    271\n",
       "Defective      29\n",
       "Name: Phillippines, dtype: int64"
      ]
     },
     "execution_count": 88,
     "metadata": {},
     "output_type": "execute_result"
    }
   ],
   "source": [
    "ph=customerorderformdf.Phillippines.value_counts()"
   ]
  },
  {
   "cell_type": "code",
   "execution_count": 89,
   "id": "45809352",
   "metadata": {
    "ExecuteTime": {
     "end_time": "2021-12-28T23:19:41.543268Z",
     "start_time": "2021-12-28T23:19:41.525755Z"
    }
   },
   "outputs": [
    {
     "data": {
      "text/plain": [
       "Error Free    267\n",
       "Defective      33\n",
       "Name: Indonesia, dtype: int64"
      ]
     },
     "execution_count": 89,
     "metadata": {},
     "output_type": "execute_result"
    }
   ],
   "source": [
    "ind=customerorderformdf.Indonesia.value_counts()\n",
    "ind"
   ]
  },
  {
   "cell_type": "code",
   "execution_count": 90,
   "id": "ffd97134",
   "metadata": {
    "ExecuteTime": {
     "end_time": "2021-12-28T23:20:09.222476Z",
     "start_time": "2021-12-28T23:20:09.200535Z"
    }
   },
   "outputs": [
    {
     "data": {
      "text/plain": [
       "Error Free    269\n",
       "Defective      31\n",
       "Name: Malta, dtype: int64"
      ]
     },
     "execution_count": 90,
     "metadata": {},
     "output_type": "execute_result"
    }
   ],
   "source": [
    "ma=customerorderformdf.Malta.value_counts()\n",
    "ma"
   ]
  },
  {
   "cell_type": "code",
   "execution_count": 92,
   "id": "1d3d8961",
   "metadata": {
    "ExecuteTime": {
     "end_time": "2021-12-28T23:36:21.230775Z",
     "start_time": "2021-12-28T23:36:21.221371Z"
    }
   },
   "outputs": [
    {
     "data": {
      "text/plain": [
       "Error Free    280\n",
       "Defective      20\n",
       "Name: India, dtype: int64"
      ]
     },
     "execution_count": 92,
     "metadata": {},
     "output_type": "execute_result"
    }
   ],
   "source": [
    "india=customerorderformdf.India.value_counts()\n",
    "india"
   ]
  },
  {
   "cell_type": "code",
   "execution_count": 101,
   "id": "7e89007b",
   "metadata": {
    "ExecuteTime": {
     "end_time": "2021-12-28T23:50:29.564234Z",
     "start_time": "2021-12-28T23:50:29.553262Z"
    }
   },
   "outputs": [
    {
     "data": {
      "text/plain": [
       "[[271, 267, 269, 280], [29, 33, 31, 20]]"
      ]
     },
     "execution_count": 101,
     "metadata": {},
     "output_type": "execute_result"
    }
   ],
   "source": [
    "data= [[271,267,269,280],[29,33,31,20]]\n",
    "data"
   ]
  },
  {
   "cell_type": "code",
   "execution_count": 104,
   "id": "ab207ca4",
   "metadata": {
    "ExecuteTime": {
     "end_time": "2021-12-28T23:52:44.583856Z",
     "start_time": "2021-12-28T23:52:44.488695Z"
    }
   },
   "outputs": [
    {
     "data": {
      "text/plain": [
       "(3.858960685820355,\n",
       " 0.2771020991233135,\n",
       " 3,\n",
       " array([[271.75, 271.75, 271.75, 271.75],\n",
       "        [ 28.25,  28.25,  28.25,  28.25]]))"
      ]
     },
     "execution_count": 104,
     "metadata": {},
     "output_type": "execute_result"
    }
   ],
   "source": [
    "################Chi-Square Test ################\n",
    "\n",
    "stats.chi2_contingency(data)\n",
    "# output(chi2,p,df,expected)"
   ]
  },
  {
   "cell_type": "markdown",
   "id": "d7598f96",
   "metadata": {},
   "source": [
    "As, on assumption of the significance level of 5%, the p-value will be greater.\n",
    "Therefore, Null hypothesis is accepted that is independence of categorical variables customer order forms defective% does not varies by centre.  \n",
    "\n",
    "The output shows the chi-square statistic, the p-value and the degrees of freedom followed by the expected counts.\n",
    "\n",
    "Given the high p-value, the test result does not detect a significant relationship between the variables."
   ]
  }
 ],
 "metadata": {
  "kernelspec": {
   "display_name": "Python 3 (ipykernel)",
   "language": "python",
   "name": "python3"
  },
  "language_info": {
   "codemirror_mode": {
    "name": "ipython",
    "version": 3
   },
   "file_extension": ".py",
   "mimetype": "text/x-python",
   "name": "python",
   "nbconvert_exporter": "python",
   "pygments_lexer": "ipython3",
   "version": "3.9.7"
  }
 },
 "nbformat": 4,
 "nbformat_minor": 5
}
